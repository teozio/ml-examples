{
 "cells": [
  {
   "cell_type": "code",
   "execution_count": 1,
   "metadata": {},
   "outputs": [
    {
     "name": "stderr",
     "output_type": "stream",
     "text": [
      "Using TensorFlow backend.\n"
     ]
    }
   ],
   "source": [
    "from keras.layers import Input, Dense\n",
    "from keras.models import Model\n",
    "from keras.datasets import mnist\n",
    "import numpy as np\n",
    "import matplotlib.pyplot as plt\n",
    "\n",
    "# this is the size of our encoded representations\n",
    "encoding_dim = 32  # 32 floats -> compression of factor 24.5, assuming the input is 784 floats\n",
    "\n",
    "# this is our input placeholder\n",
    "input_img = Input(shape=(784,))\n",
    "# \"encoded\" is the encoded representation of the input\n",
    "encoded = Dense(encoding_dim, activation='relu')(input_img)\n",
    "# \"decoded\" is the lossy reconstruction of the input\n",
    "decoded = Dense(784, activation='sigmoid')(encoded)\n",
    "\n",
    "# this model maps an input to its reconstruction\n",
    "autoencoder = Model(input_img, decoded)"
   ]
  },
  {
   "cell_type": "code",
   "execution_count": 2,
   "metadata": {
    "collapsed": true
   },
   "outputs": [],
   "source": [
    "# this model maps an input to its encoded representation\n",
    "encoder = Model(input_img, encoded)"
   ]
  },
  {
   "cell_type": "code",
   "execution_count": 3,
   "metadata": {
    "collapsed": true
   },
   "outputs": [],
   "source": [
    "# create a placeholder for an encoded (32-dimensional) input\n",
    "encoded_input = Input(shape=(encoding_dim,))\n",
    "# retrieve the last layer of the autoencoder model\n",
    "decoder_layer = autoencoder.layers[-1]\n",
    "# create the decoder model\n",
    "decoder = Model(encoded_input, decoder_layer(encoded_input))"
   ]
  },
  {
   "cell_type": "code",
   "execution_count": 4,
   "metadata": {
    "collapsed": true
   },
   "outputs": [],
   "source": [
    "autoencoder.compile(optimizer='adadelta', loss='binary_crossentropy')"
   ]
  },
  {
   "cell_type": "code",
   "execution_count": 7,
   "metadata": {},
   "outputs": [],
   "source": [
    "(x_train, _), (x_test, _) = mnist.load_data()"
   ]
  },
  {
   "cell_type": "code",
   "execution_count": 9,
   "metadata": {},
   "outputs": [
    {
     "name": "stdout",
     "output_type": "stream",
     "text": [
      "(60000, 784)\n",
      "(10000, 784)\n"
     ]
    }
   ],
   "source": [
    "x_train = x_train.astype('float32') / 255.\n",
    "x_test = x_test.astype('float32') / 255.\n",
    "x_train = x_train.reshape((len(x_train), np.prod(x_train.shape[1:])))\n",
    "x_test = x_test.reshape((len(x_test), np.prod(x_test.shape[1:])))\n",
    "print(x_train.shape)\n",
    "print(x_test.shape)"
   ]
  },
  {
   "cell_type": "code",
   "execution_count": 10,
   "metadata": {},
   "outputs": [
    {
     "name": "stdout",
     "output_type": "stream",
     "text": [
      "Train on 60000 samples, validate on 10000 samples\n",
      "Epoch 1/50\n",
      "60000/60000 [==============================] - 2s - loss: 0.3781 - val_loss: 0.2722\n",
      "Epoch 2/50\n",
      "60000/60000 [==============================] - 2s - loss: 0.2646 - val_loss: 0.2535\n",
      "Epoch 3/50\n",
      "60000/60000 [==============================] - 2s - loss: 0.2431 - val_loss: 0.2306\n",
      "Epoch 4/50\n",
      "60000/60000 [==============================] - 3s - loss: 0.2226 - val_loss: 0.2125\n",
      "Epoch 5/50\n",
      "60000/60000 [==============================] - 2s - loss: 0.2071 - val_loss: 0.1993\n",
      "Epoch 6/50\n",
      "60000/60000 [==============================] - 3s - loss: 0.1956 - val_loss: 0.1895\n",
      "Epoch 7/50\n",
      "60000/60000 [==============================] - ETA: 0s - loss: 0.186 - 3s - loss: 0.1869 - val_loss: 0.1817\n",
      "Epoch 8/50\n",
      "60000/60000 [==============================] - 3s - loss: 0.1801 - val_loss: 0.1758\n",
      "Epoch 9/50\n",
      "60000/60000 [==============================] - 3s - loss: 0.1747 - val_loss: 0.1708\n",
      "Epoch 10/50\n",
      "60000/60000 [==============================] - 3s - loss: 0.1700 - val_loss: 0.1663\n",
      "Epoch 11/50\n",
      "60000/60000 [==============================] - 3s - loss: 0.1656 - val_loss: 0.1622\n",
      "Epoch 12/50\n",
      "60000/60000 [==============================] - 3s - loss: 0.1616 - val_loss: 0.1585\n",
      "Epoch 13/50\n",
      "60000/60000 [==============================] - 3s - loss: 0.1579 - val_loss: 0.1546\n",
      "Epoch 14/50\n",
      "60000/60000 [==============================] - 3s - loss: 0.1544 - val_loss: 0.1513\n",
      "Epoch 15/50\n",
      "60000/60000 [==============================] - 3s - loss: 0.1512 - val_loss: 0.1482\n",
      "Epoch 16/50\n",
      "60000/60000 [==============================] - 3s - loss: 0.1482 - val_loss: 0.1454\n",
      "Epoch 17/50\n",
      "60000/60000 [==============================] - 3s - loss: 0.1454 - val_loss: 0.1428\n",
      "Epoch 18/50\n",
      "60000/60000 [==============================] - 3s - loss: 0.1428 - val_loss: 0.1402\n",
      "Epoch 19/50\n",
      "60000/60000 [==============================] - 3s - loss: 0.1404 - val_loss: 0.1378\n",
      "Epoch 20/50\n",
      "60000/60000 [==============================] - 3s - loss: 0.1382 - val_loss: 0.1357\n",
      "Epoch 21/50\n",
      "60000/60000 [==============================] - 3s - loss: 0.1360 - val_loss: 0.1336\n",
      "Epoch 22/50\n",
      "60000/60000 [==============================] - 3s - loss: 0.1340 - val_loss: 0.1315\n",
      "Epoch 23/50\n",
      "60000/60000 [==============================] - 3s - loss: 0.1320 - val_loss: 0.1296\n",
      "Epoch 24/50\n",
      "60000/60000 [==============================] - 3s - loss: 0.1301 - val_loss: 0.1277\n",
      "Epoch 25/50\n",
      "60000/60000 [==============================] - 3s - loss: 0.1283 - val_loss: 0.1260\n",
      "Epoch 26/50\n",
      "60000/60000 [==============================] - 3s - loss: 0.1266 - val_loss: 0.1243\n",
      "Epoch 27/50\n",
      "60000/60000 [==============================] - 3s - loss: 0.1249 - val_loss: 0.1227\n",
      "Epoch 28/50\n",
      "60000/60000 [==============================] - 3s - loss: 0.1233 - val_loss: 0.1210\n",
      "Epoch 29/50\n",
      "60000/60000 [==============================] - 3s - loss: 0.1218 - val_loss: 0.1196\n",
      "Epoch 30/50\n",
      "60000/60000 [==============================] - 3s - loss: 0.1204 - val_loss: 0.1182\n",
      "Epoch 31/50\n",
      "60000/60000 [==============================] - 3s - loss: 0.1190 - val_loss: 0.1168\n",
      "Epoch 32/50\n",
      "60000/60000 [==============================] - 3s - loss: 0.1177 - val_loss: 0.1156\n",
      "Epoch 33/50\n",
      "60000/60000 [==============================] - 3s - loss: 0.1165 - val_loss: 0.1143\n",
      "Epoch 34/50\n",
      "60000/60000 [==============================] - 3s - loss: 0.1154 - val_loss: 0.1132\n",
      "Epoch 35/50\n",
      "60000/60000 [==============================] - 3s - loss: 0.1143 - val_loss: 0.1122\n",
      "Epoch 36/50\n",
      "60000/60000 [==============================] - 3s - loss: 0.1133 - val_loss: 0.1112\n",
      "Epoch 37/50\n",
      "60000/60000 [==============================] - 3s - loss: 0.1123 - val_loss: 0.1103\n",
      "Epoch 38/50\n",
      "60000/60000 [==============================] - 3s - loss: 0.1114 - val_loss: 0.1094\n",
      "Epoch 39/50\n",
      "60000/60000 [==============================] - 3s - loss: 0.1106 - val_loss: 0.1086\n",
      "Epoch 40/50\n",
      "60000/60000 [==============================] - 3s - loss: 0.1098 - val_loss: 0.1078\n",
      "Epoch 41/50\n",
      "60000/60000 [==============================] - 3s - loss: 0.1091 - val_loss: 0.1071\n",
      "Epoch 42/50\n",
      "60000/60000 [==============================] - 3s - loss: 0.1084 - val_loss: 0.1064\n",
      "Epoch 43/50\n",
      "60000/60000 [==============================] - 3s - loss: 0.1078 - val_loss: 0.1058\n",
      "Epoch 44/50\n",
      "60000/60000 [==============================] - 3s - loss: 0.1072 - val_loss: 0.1053\n",
      "Epoch 45/50\n",
      "60000/60000 [==============================] - 3s - loss: 0.1066 - val_loss: 0.1047\n",
      "Epoch 46/50\n",
      "60000/60000 [==============================] - 3s - loss: 0.1061 - val_loss: 0.1042\n",
      "Epoch 47/50\n",
      "60000/60000 [==============================] - 3s - loss: 0.1056 - val_loss: 0.1038\n",
      "Epoch 48/50\n",
      "60000/60000 [==============================] - 3s - loss: 0.1052 - val_loss: 0.1033\n",
      "Epoch 49/50\n",
      "60000/60000 [==============================] - 3s - loss: 0.1048 - val_loss: 0.1029\n",
      "Epoch 50/50\n",
      "60000/60000 [==============================] - 3s - loss: 0.1044 - val_loss: 0.1025\n"
     ]
    },
    {
     "data": {
      "text/plain": [
       "<keras.callbacks.History at 0x1211a8400>"
      ]
     },
     "execution_count": 10,
     "metadata": {},
     "output_type": "execute_result"
    }
   ],
   "source": [
    "autoencoder.fit(x_train, x_train,\n",
    "                epochs=50,\n",
    "                batch_size=256,\n",
    "                shuffle=True,\n",
    "                validation_data=(x_test, x_test))"
   ]
  },
  {
   "cell_type": "code",
   "execution_count": 11,
   "metadata": {
    "collapsed": true
   },
   "outputs": [],
   "source": [
    "# encode and decode some digits\n",
    "# note that we take them from the *test* set\n",
    "encoded_imgs = encoder.predict(x_test)\n",
    "decoded_imgs = decoder.predict(encoded_imgs)"
   ]
  },
  {
   "cell_type": "code",
   "execution_count": 12,
   "metadata": {},
   "outputs": [
    {
     "data": {
      "image/png": "[encoded data removed]",
      "text/plain": [
       "<matplotlib.figure.Figure at 0x121358ef0>"
      ]
     },
     "metadata": {},
     "output_type": "display_data"
    }
   ],
   "source": [
    "# use Matplotlib (don't ask)\n",
    "import matplotlib.pyplot as plt\n",
    "\n",
    "n = 10  # how many digits we will display\n",
    "plt.figure(figsize=(20, 4))\n",
    "for i in range(n):\n",
    "    # display original\n",
    "    ax = plt.subplot(2, n, i + 1)\n",
    "    plt.imshow(x_test[i].reshape(28, 28))\n",
    "    plt.gray()\n",
    "    ax.get_xaxis().set_visible(False)\n",
    "    ax.get_yaxis().set_visible(False)\n",
    "\n",
    "    # display reconstruction\n",
    "    ax = plt.subplot(2, n, i + 1 + n)\n",
    "    plt.imshow(decoded_imgs[i].reshape(28, 28))\n",
    "    plt.gray()\n",
    "    ax.get_xaxis().set_visible(False)\n",
    "    ax.get_yaxis().set_visible(False)\n",
    "plt.show()"
   ]
  },
  {
   "cell_type": "code",
   "execution_count": null,
   "metadata": {
    "collapsed": true
   },
   "outputs": [],
   "source": []
  }
 ],
 "metadata": {
  "kernelspec": {
   "display_name": "Python 3",
   "language": "python",
   "name": "python3"
  },
  "language_info": {
   "codemirror_mode": {
    "name": "ipython",
    "version": 3
   },
   "file_extension": ".py",
   "mimetype": "text/x-python",
   "name": "python",
   "nbconvert_exporter": "python",
   "pygments_lexer": "ipython3",
   "version": "3.6.1"
  }
 },
 "nbformat": 4,
 "nbformat_minor": 2
}
